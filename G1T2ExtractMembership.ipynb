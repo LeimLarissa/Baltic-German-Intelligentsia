{
 "cells": [
  {
   "cell_type": "code",
   "execution_count": 26,
   "id": "f47f6dd1-abe2-4ad8-9889-b78aa08218e4",
   "metadata": {},
   "outputs": [],
   "source": [
    "import re\n",
    "import pandas as pd\n",
    "import numpy as np\n",
    "from pathlib import Path"
   ]
  },
  {
   "cell_type": "markdown",
   "id": "50c10ef5-2153-4e86-aa32-383c2470f2f0",
   "metadata": {
    "jp-MarkdownHeadingCollapsed": true,
    "tags": []
   },
   "source": [
    "# Functions"
   ]
  },
  {
   "cell_type": "code",
   "execution_count": 2,
   "id": "9b94c6d2-b3b4-4b69-8c7d-a5dc91738a3d",
   "metadata": {},
   "outputs": [],
   "source": [
    "#Code snippet: https://programminghistorian.org/en/lessons/generating-an-ordered-data-set-from-an-OCR-text-file\n",
    "\n",
    "'''\n",
    "Code ripped from https://www.datacamp.com/community/tutorials/fuzzy-string-python\n",
    "'''\n",
    "def lev(seq1, seq2):\n",
    "    \"\"\" levenshtein_ratio_and_distance:\n",
    "        For all i and j, distance[i,j] will contain the Levenshtein\n",
    "        distance between the first i characters of seq1 and the\n",
    "        first j characters of seq2\n",
    "    \"\"\"\n",
    "    # Initialize matrix of zeros\n",
    "    rows = len(seq1)+1\n",
    "    cols = len(seq2)+1\n",
    "    distance = np.zeros((rows,cols),dtype = int)\n",
    "\n",
    "    # Populate matrix of zeros with the indeces of each character of both strings\n",
    "    for i in range(1, rows):\n",
    "        for k in range(1,cols):\n",
    "            distance[i][0] = i\n",
    "            distance[0][k] = k\n",
    "\n",
    "    # Iterate over the matrix to compute the cost of deletions,insertions and/or substitutions    \n",
    "    for col in range(1, cols):\n",
    "        for row in range(1, rows):\n",
    "            if seq1[row-1] == seq2[col-1]:\n",
    "                cost = 0 # If the characters are the same in the two strings in a given position [i,j] then the cost is 0\n",
    "            else:\n",
    "                # In order to align the results with those of the Python Levenshtein package, if we choose to calculate the ratio\n",
    "                # the cost of a substitution is 2. If we calculate just distance, then the cost of a substitution is 1.\n",
    "                cost = 1\n",
    "            distance[row][col] = min(distance[row-1][col] + 1,      # Cost of deletions\n",
    "                                 distance[row][col-1] + 1,          # Cost of insertions\n",
    "                                 distance[row-1][col-1] + cost)     # Cost of substitutions\n",
    "\n",
    "    return distance[row][col]"
   ]
  },
  {
   "cell_type": "markdown",
   "id": "2b197eb5-89d5-49a6-a5b1-70d88735d6ad",
   "metadata": {},
   "source": [
    "# Code"
   ]
  },
  {
   "cell_type": "markdown",
   "id": "3d3f94d7-62e0-4d9a-ab9f-63f74ec99464",
   "metadata": {
    "tags": []
   },
   "source": [
    "## Section Tagging GEG"
   ]
  },
  {
   "cell_type": "markdown",
   "id": "fe7152e5-8940-4d4b-a4c4-fed6b7fd91a6",
   "metadata": {},
   "source": [
    "Manual changes:  \n",
    "- In file GEG_1873_New.txt I manually removed additional spaces from line 632 and line 1626.  \n",
    "- In file GEG_1874_New.txt I manually removed additional spaces from line 3747 and line 5449 and line 6234.  \n",
    "- In file GEG_1875_New.txt I manually removed additional spaces from line 957 and line 5255.  \n",
    "- In file GEG_1875_New.txt I manually added a line break in line 6016 after \"Verzeichnis \".\n",
    "- In file GEG_1876_New.txt I manually removed additional spaces from line 7158.\n",
    "- In file GEG_1876_New.txt I manually added a line break in line 8200 after \"Verzeichnis \".\n",
    "- In file GEG_1877_New.txt I manually removed additional spaces from line 1790.\n",
    "- In file GEG_1877_New.txt I manually added a line break in line 5130 after \"Verzeichnis \".\n",
    "- In file GEG_1878_New.txt I manually removed additional symbols bevor and after the content from line 5052.\n",
    "- In file GEG_1878_New.txt I manually added a line break in line 8490 after \"Verzeichnis \".\n",
    "- In file GEG_1879_New.txt I manually added a line break in line 7390 after \"Verzeichnis \"."
   ]
  },
  {
   "cell_type": "code",
   "execution_count": 89,
   "id": "e0a58b13-704d-4d8f-8a8e-a9e94ec2594c",
   "metadata": {},
   "outputs": [],
   "source": [
    "#I read the file into a list\n",
    "filename = 'Sources/GEG/1879_GEG_New.txt'\n",
    "with open(filename, 'r') as fp:\n",
    "    text = fp.readlines()\n",
    "    "
   ]
  },
  {
   "cell_type": "code",
   "execution_count": 90,
   "id": "0fcab324-1881-4a87-9617-76daf2554d0e",
   "metadata": {},
   "outputs": [
    {
     "name": "stdout",
     "output_type": "stream",
     "text": [
      "YOccurence: Jahresversammlung \n",
      "; Score: 0; in Line: 93\n",
      "SOccurence: 459. Sitzung \n",
      "; Score: 3; in Line: 896\n",
      "SOccurence: 460. Sitzung \n",
      "; Score: 1; in Line: 1993\n",
      "SOccurence: 461. Sitzung \n",
      "; Score: 2; in Line: 3746\n",
      "SOccurence: 462. Sitzung \n",
      "; Score: 2; in Line: 4004\n",
      "SOccurence: 463. Sitzung \n",
      "; Score: 2; in Line: 4807\n",
      "SOccurence: 464i Sitzung \n",
      "; Score: 2; in Line: 5280\n",
      "SOccurence: 465. Sitzung \n",
      "; Score: 2; in Line: 5709\n",
      "SOccurence: 466. Sitzung \n",
      "; Score: 2; in Line: 6515\n",
      "LOccurence: Verzeichnis \n",
      "; Score: 0; in Line: 7390\n",
      "LOccurence: Verzeichnis \n",
      "; Score: 0; in Line: 7698\n",
      "LOccurence: B erzeichniß. \n",
      "; Score: 4; in Line: 7911\n"
     ]
    }
   ],
   "source": [
    "#I check whether all the sections I want to tag are being detected. \n",
    "#If I do notice missing sections I have to check the file manually and adapt the lines if needed.\n",
    "\n",
    "for num, line in enumerate(text, 1):\n",
    "    \n",
    "    yearlymeet_lev_score = lev(line,'Jahresversammlung \\n')                            \n",
    "    section_lev_score = lev(line, '460* Sitzung \\n')                                    #I adjust this as best I can to what the ideal outcome would be\n",
    "    list_lev_score = lev(line, 'Verzeichnis \\n')\n",
    "    \n",
    "    if yearlymeet_lev_score <= 5:                                                       #I tweak the score until it fits best\n",
    "        print(f\"YOccurence: {line}; Score: {yearlymeet_lev_score}; in Line: {num}\")\n",
    "    elif section_lev_score <= 7:                                                        #I tweak the score until it fits best\n",
    "        print(f\"SOccurence: {line}; Score: {section_lev_score}; in Line: {num}\")\n",
    "    elif list_lev_score <= 4:                                                           #I tweak the score until it fits best\n",
    "        print(f\"LOccurence: {line}; Score: {list_lev_score}; in Line: {num}\")\n",
    "    "
   ]
  },
  {
   "cell_type": "code",
   "execution_count": 91,
   "id": "23e5c943-0d0e-4b3a-a276-7826c384ced3",
   "metadata": {},
   "outputs": [],
   "source": [
    "#I create a new list with the lines that mark sections being tagged.\n",
    "#I have to adjust the changes made above\n",
    "\n",
    "new_text = []\n",
    "\n",
    "for num, line in enumerate(text, 0):\n",
    "    \n",
    "    yearlymeet_lev_score = lev(line,'Jahresversammlung \\n')                            \n",
    "    section_lev_score = lev(line, '460* Sitzung \\n')                     #I adjust this as best I can to what the ideal outcome would be\n",
    "    list_lev_score = lev(line, 'Verzeichnis \\n')\n",
    "    \n",
    "    if yearlymeet_lev_score <= 5:\n",
    "        ano_line = f\"<section type='yearlymeet'> {line}\"                 #I open the section tag in the line I detected\n",
    "        new_text.append(ano_line)\n",
    "         \n",
    "    elif section_lev_score <= 7:\n",
    "        new_text.append(\"</section> \\n\")                                 #I close the section tag with an additional line before the new section starts \n",
    "        ano_line = f\"<section type='monthlymeet'> {line}\"\n",
    "        new_text.append(ano_line)\n",
    "        \n",
    "    elif list_lev_score <= 4:\n",
    "        new_text.append(\"</section> \\n\")\n",
    "        ano_line = f\"<section type='list'> {line}\"\n",
    "        new_text.append(ano_line)\n",
    "        \n",
    "    else:\n",
    "        new_text.append(line)\n",
    "        \n",
    "new_text.append(\"</section> \\n\")                                         #I close the very last section \n",
    "        "
   ]
  },
  {
   "cell_type": "code",
   "execution_count": 92,
   "id": "2cfdb36e-82ea-4302-a628-1ab3fe11e0b5",
   "metadata": {
    "scrolled": true,
    "tags": []
   },
   "outputs": [
    {
     "data": {
      "text/plain": [
       "['Woten, die Esten und Liven und,, dürfen wir auch \\n',\n",
       " 'wohl hinzufügen, die Kuren noch eine Einheit bilde-\\n',\n",
       " 'ten, da wohnten sie in unmittelbarer Nachbarschaft \\n',\n",
       " 'der gothisch-nordgermanischen Bevölkerung; w o da-\\n',\n",
       " 'mals beider Wohnsitz war, das zu bestimmen, bietet \\n',\n",
       " 'die Sprachwissenschaft noch kein Mittel. Ob nun \\n',\n",
       " 'aber die eigentliche Geschichte oder die Alterthums-\\n',\n",
       " 'Wissenschaft ihrerseits nicht etwa auch zur Beantwor-\\n',\n",
       " 'tung jener Frage noch etwas beizutragen vermögen, \\n',\n",
       " 'das untersuche ich heute nicht weiter: meine Aufgabe \\n',\n",
       " 'sollte nur sein, vom Boden der Sprachwissenschaft \\n',\n",
       " 'aus den Blick einmal in uralte Völkerverhältnisse \\n',\n",
       " 'und Völkerbeziehungen zu richten, wie sie die Ge-\\n',\n",
       " 'lehrte Estnische Gesellschaft in ganz besonderer Weise \\n',\n",
       " 'zu interessiren wohl geeignet sein dürften. \\n',\n",
       " '</section> \\n',\n",
       " \"<section type='monthlymeet'> 459. Sitzung \\n\",\n",
       " 'der Gelehrteu Estnischen Gesellschaft \\n',\n",
       " 'den 7. (19.) Februar 1879. \\n',\n",
       " 'Zuschriften hatten geschickt: die Kaiserliche \\n',\n",
       " 'Universität undLandes-Bibliothek in Straßburg, \\n',\n",
       " 'die K. M o s k a u s ch e Gesellschaft der Naturforscher, \\n',\n",
       " 'die schlesische Gesellschaft für vaterländische Cultur \\n',\n",
       " 'in Breslau, der historische Verein von und für \\n',\n",
       " 'Niederbayern in L a n d s h u t, die historische Gesell-\\n',\n",
       " 'schaft des Künstler-Vereins zu Bremen, die Ge\\xad\\n',\n",
       " 'sellschaft für nützliche Forschung zu Trier, der \\n',\n",
       " 'historische Verein für Ermland in Frauenburg, \\n',\n",
       " 'die Gesellschaft für Geschichte und Alterthumskunbe \\n',\n",
       " 'der Ostseeprovinzen Rußlands in Riga, der Vor\\xad\\n']"
      ]
     },
     "execution_count": 92,
     "metadata": {},
     "output_type": "execute_result"
    }
   ],
   "source": [
    "#I cross check whether everythin works adjusting the numbers so I can see the area surrounding the first monthlymeet\n",
    "new_text[880:910]"
   ]
  },
  {
   "cell_type": "code",
   "execution_count": 93,
   "id": "ec7a30e5-bbe5-4ad5-8a6a-191b875edd80",
   "metadata": {},
   "outputs": [],
   "source": [
    "#I write the new annotated list into a .txt file \n",
    "\n",
    "out_filename = 'Output/GEG/1879_GEG_Ano.txt'                            #Look out for the right year!!\n",
    "\n",
    "filepath = Path(out_filename)                             \n",
    "filepath.parent.mkdir(parents=True, exist_ok=True)                       #creates the folders if they don't exist yet\n",
    "\n",
    "with open(out_filename, 'x') as fp:\n",
    "    fp.write(\"\".join(str(item) for item in new_text))"
   ]
  },
  {
   "cell_type": "code",
   "execution_count": null,
   "id": "8007ef92-8e70-41e2-b031-2d7a1e96ea1e",
   "metadata": {},
   "outputs": [],
   "source": []
  }
 ],
 "metadata": {
  "kernelspec": {
   "display_name": "Python 3 (ipykernel)",
   "language": "python",
   "name": "python3"
  },
  "language_info": {
   "codemirror_mode": {
    "name": "ipython",
    "version": 3
   },
   "file_extension": ".py",
   "mimetype": "text/x-python",
   "name": "python",
   "nbconvert_exporter": "python",
   "pygments_lexer": "ipython3",
   "version": "3.10.6"
  }
 },
 "nbformat": 4,
 "nbformat_minor": 5
}
