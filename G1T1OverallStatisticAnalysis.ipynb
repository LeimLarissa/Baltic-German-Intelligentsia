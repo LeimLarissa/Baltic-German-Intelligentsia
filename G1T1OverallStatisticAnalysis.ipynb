{
 "cells": [
  {
   "cell_type": "code",
   "execution_count": 2,
   "id": "a4a9c559-4d27-4170-b963-c7c6709a9b0e",
   "metadata": {
    "tags": []
   },
   "outputs": [],
   "source": [
    "import re\n",
    "import pandas as pd\n",
    "import numpy as np\n",
    "import csv\n",
    "from pathlib import Path"
   ]
  },
  {
   "cell_type": "code",
   "execution_count": 3,
   "id": "508b1d5b-6616-42ec-99c0-69900e02210f",
   "metadata": {
    "tags": []
   },
   "outputs": [],
   "source": [
    "# First I need the number of lines of the original material \n",
    "\n",
    "# Line, word and character counts of files can be created with git bash\n",
    "# Example bash command: wc *Cor_*.txt | sort -n > OverviewNVR.txt\n",
    "# OpenRefine from fixed space to column-named .csv\n",
    "\n",
    "df_NVR = pd.read_csv('Sources/NVR/OverviewNVR.csv')\n",
    "df_GGuA = pd.read_csv('Sources/GGuA/OverviewGGuA.csv')\n",
    "df_GEG = pd.read_csv('Sources/GEG/OverviewGEG.csv')\n",
    "\n",
    "#df_NVR\n",
    "#df_GGuA\n",
    "#df_GEG"
   ]
  },
  {
   "cell_type": "code",
   "execution_count": 4,
   "id": "bcbb77d5-12bd-47c0-a6ba-b3fd5af7bc01",
   "metadata": {
    "tags": []
   },
   "outputs": [
    {
     "name": "stdout",
     "output_type": "stream",
     "text": [
      "NVR:  295806\n",
      "GGuA: 300440\n",
      "GEG:  288147\n"
     ]
    }
   ],
   "source": [
    "NVR_all_lines = df_NVR.loc[40,'lines']\n",
    "GGuA_all_lines = df_GGuA.loc[37,'lines']\n",
    "GEG_all_lines = df_GEG.loc[40,'lines']\n",
    "\n",
    "print(\"NVR:  \" + str(NVR_all_lines))\n",
    "print(\"GGuA: \" + str(GGuA_all_lines))\n",
    "print(\"GEG:  \" + str(GEG_all_lines))"
   ]
  },
  {
   "cell_type": "code",
   "execution_count": 13,
   "id": "8b965ec5-a4bb-4f27-9f03-f669a89044f0",
   "metadata": {
    "tags": []
   },
   "outputs": [],
   "source": [
    "# the number of original anticipated erroreous lines can be found in the Societies Overall Error Stats\n",
    "\n",
    "df_NVR_E = pd.read_csv('Sources/NVR/2023-08-31_OverallNVRErrorStats.csv')\n",
    "df_GGuA_E = pd.read_csv('Sources/GGuA/2023-02-13_OverallGGuAErrorStats.csv')\n",
    "df_GEG_E = pd.read_csv('Sources/GEG/2023-02-13_OverallGEGErrorStats.csv')\n",
    "\n",
    "#df_NVR_E\n",
    "#df_GGuA_E\n",
    "#df_GEG_E"
   ]
  },
  {
   "cell_type": "code",
   "execution_count": 6,
   "id": "255bb3ac-1a83-49be-8563-119dd62811f7",
   "metadata": {
    "tags": []
   },
   "outputs": [
    {
     "name": "stdout",
     "output_type": "stream",
     "text": [
      "NVR total original errornous lines: 11688.0\n",
      "GGuA total original errornous lines: 3486.0\n",
      "GEG total original errornous lines:  9828.0\n"
     ]
    }
   ],
   "source": [
    "NVR_NomTotal = df_NVR_E.loc[40,'NomSpaceE_Start']\n",
    "NVR_SpecTotal = df_NVR_E.loc[40,'SpecSpaceE_Start']\n",
    "NVR_OETotal = NVR_NomTotal + NVR_SpecTotal\n",
    "\n",
    "GGuA_NomTotal = df_GGuA_E.loc[37,'NomSpaceE_Start']\n",
    "GGuA_SpecTotal = df_GGuA_E.loc[37,'SpecSpaceE_Start']\n",
    "GGuA_OETotal = GGuA_NomTotal + GGuA_SpecTotal\n",
    "\n",
    "GEG_NomTotal = df_GEG_E.loc[40,'NomSpaceE_Start']\n",
    "GEG_SpecTotal = df_GEG_E.loc[40,'SpecSpaceE_Start']\n",
    "GEG_OETotal = GEG_NomTotal + GEG_SpecTotal\n",
    "\n",
    "print(\"NVR total original errornous lines: \" + str(NVR_OETotal))\n",
    "print(\"GGuA total original errornous lines: \" + str(GGuA_OETotal))\n",
    "print(\"GEG total original errornous lines:  \" + str(GEG_OETotal))"
   ]
  },
  {
   "cell_type": "code",
   "execution_count": 7,
   "id": "18262b24-e7e9-4c63-b6cd-676fdc139a44",
   "metadata": {
    "tags": []
   },
   "outputs": [
    {
     "name": "stdout",
     "output_type": "stream",
     "text": [
      "NVR total errornous lines:  31098.0\n",
      "GGuA total errornous lines: 10336.0\n",
      "GEG total errornous lines:  15261.0\n"
     ]
    }
   ],
   "source": [
    "NVR_VSpecTotal = df_NVR_E.loc[40,'VSpecSpaceE_Start']\n",
    "NVR_ETotal = NVR_OETotal + NVR_VSpecTotal\n",
    "\n",
    "GGuA_VSpecTotal = df_GGuA_E.loc[37,'VSpecSpaceE_Start']\n",
    "GGuA_ETotal = GGuA_OETotal + GGuA_VSpecTotal\n",
    "\n",
    "GEG_VSpecTotal = df_GEG_E.loc[40,'VSpecSpaceE_Start']\n",
    "GEG_ETotal = GEG_OETotal + GEG_VSpecTotal\n",
    "\n",
    "print(\"NVR total errornous lines:  \" + str(NVR_ETotal))\n",
    "print(\"GGuA total errornous lines: \" + str(GGuA_ETotal))\n",
    "print(\"GEG total errornous lines:  \" + str(GEG_ETotal))"
   ]
  },
  {
   "cell_type": "code",
   "execution_count": 11,
   "id": "813d19fc-6ad0-4f7d-ac00-7859ca57b6b0",
   "metadata": {
    "tags": []
   },
   "outputs": [
    {
     "name": "stdout",
     "output_type": "stream",
     "text": [
      "NVR cleaned lines:  11235.0\n",
      "GGuA cleaned lines:  2645.0\n",
      "GEG cleaned lines:   9667.0\n"
     ]
    }
   ],
   "source": [
    "NVR_RemainSpecE = df_NVR_E.loc[40,'SpecSpaceE_End']\n",
    "NVR_CLines = NVR_OETotal - NVR_RemainSpecE\n",
    "\n",
    "GGuA_RemainSpecE = df_GGuA_E.loc[37,'SpecSpaceE_End']\n",
    "GGuA_CLines = GGuA_OETotal - GGuA_RemainSpecE\n",
    "\n",
    "GEG_RemainSpecE = df_GEG_E.loc[40,'SpecSpaceE_End']\n",
    "GEG_CLines = GEG_OETotal - GEG_RemainSpecE\n",
    "\n",
    "print(\"NVR cleaned lines:  \" + str(NVR_CLines))\n",
    "print(\"GGuA cleaned lines:  \" + str(GGuA_CLines))\n",
    "print(\"GEG cleaned lines:   \" + str(GEG_CLines))"
   ]
  },
  {
   "cell_type": "code",
   "execution_count": 12,
   "id": "8f8e69e7-546b-4970-ae5b-e83118eb4f70",
   "metadata": {
    "tags": []
   },
   "outputs": [
    {
     "name": "stdout",
     "output_type": "stream",
     "text": [
      "NVR remaining erronous lines:  19863.0\n",
      "GGuA remaining erronous lines:  7691.0\n",
      "GEG remaining erronous lines:   5594.0\n"
     ]
    }
   ],
   "source": [
    "NVR_RemainE = NVR_RemainSpecE + NVR_VSpecTotal\n",
    "GGuA_RemainE = GGuA_RemainSpecE + GGuA_VSpecTotal\n",
    "GEG_RemainE = GEG_RemainSpecE + GEG_VSpecTotal\n",
    "\n",
    "print(\"NVR remaining erronous lines:  \" + str(NVR_RemainE))\n",
    "print(\"GGuA remaining erronous lines:  \" + str(GGuA_RemainE))\n",
    "print(\"GEG remaining erronous lines:   \" + str(GEG_RemainE))"
   ]
  },
  {
   "cell_type": "code",
   "execution_count": null,
   "id": "b6c96f28-e5d6-4d7c-aeed-31764218582f",
   "metadata": {},
   "outputs": [],
   "source": []
  }
 ],
 "metadata": {
  "kernelspec": {
   "display_name": "Python 3 (ipykernel)",
   "language": "python",
   "name": "python3"
  },
  "language_info": {
   "codemirror_mode": {
    "name": "ipython",
    "version": 3
   },
   "file_extension": ".py",
   "mimetype": "text/x-python",
   "name": "python",
   "nbconvert_exporter": "python",
   "pygments_lexer": "ipython3",
   "version": "3.10.10"
  }
 },
 "nbformat": 4,
 "nbformat_minor": 5
}
