{
 "cells": [
  {
   "cell_type": "code",
   "execution_count": 1,
   "id": "f47f6dd1-abe2-4ad8-9889-b78aa08218e4",
   "metadata": {},
   "outputs": [],
   "source": [
    "import re\n",
    "import pandas as pd\n",
    "import numpy as np\n",
    "from pathlib import Path"
   ]
  },
  {
   "cell_type": "markdown",
   "id": "50c10ef5-2153-4e86-aa32-383c2470f2f0",
   "metadata": {
    "tags": []
   },
   "source": [
    "# Functions"
   ]
  },
  {
   "cell_type": "code",
   "execution_count": 2,
   "id": "9b94c6d2-b3b4-4b69-8c7d-a5dc91738a3d",
   "metadata": {},
   "outputs": [],
   "source": [
    "#Code snippet: https://programminghistorian.org/en/lessons/generating-an-ordered-data-set-from-an-OCR-text-file\n",
    "\n",
    "'''\n",
    "Code ripped from https://www.datacamp.com/community/tutorials/fuzzy-string-python\n",
    "'''\n",
    "def lev(seq1, seq2):\n",
    "    \"\"\" levenshtein_ratio_and_distance:\n",
    "        For all i and j, distance[i,j] will contain the Levenshtein\n",
    "        distance between the first i characters of seq1 and the\n",
    "        first j characters of seq2\n",
    "    \"\"\"\n",
    "    # Initialize matrix of zeros\n",
    "    rows = len(seq1)+1\n",
    "    cols = len(seq2)+1\n",
    "    distance = np.zeros((rows,cols),dtype = int)\n",
    "\n",
    "    # Populate matrix of zeros with the indeces of each character of both strings\n",
    "    for i in range(1, rows):\n",
    "        for k in range(1,cols):\n",
    "            distance[i][0] = i\n",
    "            distance[0][k] = k\n",
    "\n",
    "    # Iterate over the matrix to compute the cost of deletions,insertions and/or substitutions    \n",
    "    for col in range(1, cols):\n",
    "        for row in range(1, rows):\n",
    "            if seq1[row-1] == seq2[col-1]:\n",
    "                cost = 0 # If the characters are the same in the two strings in a given position [i,j] then the cost is 0\n",
    "            else:\n",
    "                # In order to align the results with those of the Python Levenshtein package, if we choose to calculate the ratio\n",
    "                # the cost of a substitution is 2. If we calculate just distance, then the cost of a substitution is 1.\n",
    "                cost = 1\n",
    "            distance[row][col] = min(distance[row-1][col] + 1,      # Cost of deletions\n",
    "                                 distance[row][col-1] + 1,          # Cost of insertions\n",
    "                                 distance[row-1][col-1] + cost)     # Cost of substitutions\n",
    "\n",
    "    return distance[row][col]"
   ]
  },
  {
   "cell_type": "markdown",
   "id": "2b197eb5-89d5-49a6-a5b1-70d88735d6ad",
   "metadata": {},
   "source": [
    "# Code"
   ]
  },
  {
   "cell_type": "markdown",
   "id": "3d3f94d7-62e0-4d9a-ab9f-63f74ec99464",
   "metadata": {
    "tags": []
   },
   "source": [
    "## Section Tagging GEG"
   ]
  },
  {
   "cell_type": "markdown",
   "id": "fe7152e5-8940-4d4b-a4c4-fed6b7fd91a6",
   "metadata": {},
   "source": [
    "##### Manual changes:  \n",
    "- In file 1873_GEG_New.txt I manually removed additional spaces from line 632 and line 1626.  \n",
    "- In file 1874_GEG_New.txt I manually removed additional spaces from line 3747 and line 5449 and line 6234.  \n",
    "- In file 1875_GEG_New.txt I manually removed additional spaces from line 957 and line 5255.  \n",
    "- In file 1875_GEG_New.txt I manually added a line break in line 6016 after \"Verzeichnis \".\n",
    "- In file 1876_GEG_New.txt I manually removed additional spaces from line 7158.\n",
    "- In file 1876_GEG_New.txt I manually added a line break in line 8200 after \"Verzeichnis \".\n",
    "- In file 1877_GEG_New.txt I manually removed additional spaces from line 1790.\n",
    "- In file 1877_GEG_New.txt I manually added a line break in line 5130 after \"Verzeichnis \".\n",
    "- In file 1878_GEG_New.txt I manually removed additional symbols bevor and after the content from line 5052.\n",
    "- In file 1878_GEG_New.txt I manually added a line break in line 8490 after \"Verzeichnis \".\n",
    "- In file 1879_GEG_New.txt I manually added a line break in line 7390 after \"Verzeichnis \".\n",
    "- In file 1880_GEG_New.txt I manually added a line break in line 6022 after \"Verzeichnis \".\n",
    "- In file 1881_GEG_New.txt I manually added a line break in line 7500 after \"Verzeichnis \".\n",
    "- In file 1882_GEG_New.txt I manually added a line break in line 4971 to move the \"Sitzung\" in a new line.\n",
    "- In file 1882_GEG_New.txt I manually added a line break in line 7860 after \"Verzeichnis \".\n",
    "- In file 1882_GEG_New.txt I manually removed additional spaces from line 8424.\n",
    "- In file 1883_GEG_New.txt I manually added a line break in line 5306 after \"Verzeichnis \".\n",
    "- In file 1884_GEG_New.txt I manually added a line break in line 9822 after \"Verzeichnis \".\n",
    "- In file 1885_GEG_New.txt I manually added a line break in line 10083 after \"Verzeichnis \".\n",
    "- In file 1886_GEG_New.txt I manually added a line break in line 9575 after \"Verzeichnis \".\n",
    "- In file 1887_GEG_New.txt I manually added a line break in line 4721 after \"Verzeichnis \".\n",
    "- In file 1887_GEG_New.txt I manually removed additional spaces from line 5122 and line 5367 and line 5625.\n",
    "- In file 1888_GEG_New.txt I manually added \"Jahresversammlung\" and a line break in line 72.\n",
    "- In file 1888_GEG_New.txt I manually added a line break in line 8039 after \"Verzeichnis \".\n",
    "- In file 1889_GEG_New.txt I manually added a line break in line 5197 after \"Verzeichnis \".\n",
    "- In file 1890_GEG_New.txt I manually added a line break in line 3908 after \"Verzeichnis \".\n",
    "- In file 1891_GEG_New.txt I manually added a line break in line 4752 after \"Verzeichnis \".\n",
    "- In file 1892_GEG_New.txt I manually added a line break in line 3944 after \"Verzeichnis \".\n",
    "- NB: File 1892_GEG_New.txt has missing numbers for the members-list between line 4142 and line 4221.\n",
    "- In file 1893_GEG_New.txt I manually added a line break in line 4384 after \"Verzeichnis \".\n",
    "- In file 1894_GEG_New.txt I manually added a line break in line 6047 after \"Verzeichnis \".\n",
    "- NB: File 1894_GEG_New.txt has missing numbers for the members-list between line 6180 and line 6212.\n",
    "- In file 1895_GEG_New.txt I manually added a line break in line 4303 after \"Verzeichnis \".\n",
    "- In file 1896_GEG_New.txt I manually added a line break in line 5780 after \"Verzeichnis \".\n",
    "- In file 1896_GEG_New.txt I manually removed additional spaces from line 6212 and line 6463.\n",
    "- In file 1897_GEG_New.txt I manually added a line break in line 6221 after \"Verzeichnis \".\n",
    "- In file 1898_GEG_New.txt I manually added a line break in line 4560 after \"Verzeichnis \".\n",
    "- In file 1899_GEG_New.txt I manually added a line break in line 4992 after \"Verzeichnis \".\n",
    "- In file 1900_GEG_New.txt I manually added a line break in line 6014 after \"Verzeichnis \".\n",
    "- NB: File 1900_GEG_New.txt has missing numbers for the members-list between line 6191 and line 6225.\n",
    "- In file 1901_GEG_New.txt I manually added a line break in line 9401 after \"Verzeichnis \".\n",
    "- In file 1901_GEG_New.txt I manually removed a line break in line 7995 after \"Verzeichnis \".\n",
    "- In file 1902_GEG_New.txt I manually added a line break in line 6192 after \"Verzeichnis \".\n",
    "- In file 1903_GEG_New.txt I manually added a line break in line 100, line 240, line 466, line 534, line 686, and line 785 after \"Sitzung\".\n",
    "- In file 1903_GEG_New.txt I manually added a line break in line 1279 after \"Verzeichnis \".\n",
    "- In file 1903_GEG_New.txt I manually removed a line break in line 6357 after \"Verzeichnis \".\n",
    "- In file 1904_GEG_New.txt I manually added a line break in line 224, line 240, line 389, line 446, line 910, line 1087, line 1198, and line 1335 after \"Sitzung\".\n",
    "- In file 1904_GEG_New.txt I manually added a line break in line 1578 after \"Verzeichnis \".\n",
    "- NB: File 1904_GEG_New.txt has missing numbers for the members-list between line 1765 and line 1798.\n",
    "- NB: File 1904_GEG_New.txt has missing numbers for the members-list between line 1845 and line 1878.\n",
    "- In file 1905_GEG_New.txt I manually added a line break in line 90, line 208, line 270, line 581, line 679, line 966, line 1215, and line 1278 after \"Sitzung\".\n",
    "- In file 1905_GEG_New.txt I manually added a line break in line 1470 after \"Verzeichnis \".\n",
    "- In file 1906_GEG_New.txt I manually added a line break in line 68, line 112, line 222, line 339, line 513, line 632, and line 703 after \"Sitzung\".\n",
    "- In file 1906_GEG_New.txt I manually added a line break in line 881 after \"Verzeichnis \".\n",
    "- In file 1907_GEG_New.txt I manually added a line break in line 99, line 168, line 209, line 275, line 433, line 537, line 890, line 951, and line 1084 after \"Sitzung\".\n",
    "- In file 1907_GEG_New.txt I manually added a line break in line 1386 after \"Verzeichnis \".\n",
    "- In file 1908_GEG_New.txt I manually added a line break in line 97, line 245, line 319, line 449, line 614, line 851, line 1045, and line 1113 after \"Sitzung\".\n",
    "- In file 1908_GEG_New.txt I manually added a line break in line 1500 after \"Verzeichnis \".\n",
    "- In file 1909_GEG_New.txt I manually added a line break in line 85, line 486, line 628, line 762, line 898, line 1281, and line 1367 after \"Sitzung\".\n",
    "- In file 1909_GEG_New.txt I manually added a line break in line 1651 after \"Verzeichnis \".\n",
    "- In file 1910_GEG_New.txt I manually added a line break in line 93, line 254, line 336, line 389, line 458, line 529, line 579 and line 604 after \"Sitzung\".\n",
    "- In file 1910_GEG_New.txt I manually added a line break in line 731 after \"Verzeichnis \".\n",
    "- NB: File 1910_GEG_New.txt has missing numbers for the members-list between line 760 and line 790.\n",
    "- In file 1911_GEG_New.txt I manually added a line break in line 86, line 226, line 301, line 389, line 520, line 578, and line 639 after \"Sitzung\".\n",
    "- In file 1911_GEG_New.txt I manually added a line break in line 3742 and in line 4552 after \"Verzeichnis \".\n",
    "- NB: In file 1911_GEG_New.txt the last \"Verzeichnis\" is the membership list. \n",
    "- In file 1912-1922_GEG_New.txt I manually added a line break in line 3167 after \"Sitzung\" and replaced \"Außerordentliche Sitzung\" with \"XXX. Monatssitzung\"\n",
    "- In file 1912-1922_GEG_New.txt I manually added a line break in line 72, line 349, line 392, line 3249, line 3364, line 4247, line 4267, line 4378, line 4585, line 4777, line 4904, line 5072, line 5187, and line 5294 after \"Monatssitzung\".\n",
    "- In file 1912-1922_GEG_New.txt I manually added a line break in line 3742 and in line 8407 after \"Verzeichnis \".\n",
    "- NB: In file 1912-1922_GEG_New.txt the membership list does have a completely different layout. "
   ]
  },
  {
   "cell_type": "code",
   "execution_count": 92,
   "id": "e0a58b13-704d-4d8f-8a8e-a9e94ec2594c",
   "metadata": {},
   "outputs": [],
   "source": [
    "#I read the file into a list\n",
    "filename = 'Sources/GEG/1912-1922_GEG_New.txt'\n",
    "with open(filename, 'r') as fp:\n",
    "    text = fp.readlines()\n",
    "    "
   ]
  },
  {
   "cell_type": "code",
   "execution_count": 93,
   "id": "0fcab324-1881-4a87-9617-76daf2554d0e",
   "metadata": {},
   "outputs": [
    {
     "name": "stdout",
     "output_type": "stream",
     "text": [
      "YOccurence: Jahresversammlung \n",
      "; Score: 0; in Line: 72\n",
      "SOccurence: 755. Monatssitzung \n",
      "; Score: 1; in Line: 349\n",
      "SOccurence: 756. Monatssitzung \n",
      "; Score: 1; in Line: 392\n",
      "YOccurence: Jahresversammlung \n",
      "; Score: 0; in Line: 500\n",
      "SOccurence: XXX. Monatssitzung \n",
      "; Score: 3; in Line: 3167\n",
      "SOccurence: 757. Monatssitzung \n",
      "; Score: 1; in Line: 3249\n",
      "SOccurence: 758. Monatssitzung \n",
      "; Score: 1; in Line: 3364\n",
      "YOccurence: Jahresversammlung \n",
      "; Score: 0; in Line: 4247\n",
      "SOccurence: 760. Monatssitzung \n",
      "; Score: 1; in Line: 4267\n",
      "SOccurence: 761. Monatssitzung \n",
      "; Score: 2; in Line: 4378\n",
      "SOccurence: 762. Monatssitzung \n",
      "; Score: 2; in Line: 4585\n",
      "SOccurence: 763. Monatssitzung \n",
      "; Score: 2; in Line: 4777\n",
      "SOccurence: 764. Monatssitzung \n",
      "; Score: 2; in Line: 4904\n",
      "SOccurence: 765. Monatssitzung \n",
      "; Score: 2; in Line: 5072\n",
      "SOccurence: 766. Monatssitzung \n",
      "; Score: 2; in Line: 5187\n",
      "SOccurence: 767. Monatssitzung \n",
      "; Score: 2; in Line: 5294\n",
      "LOccurence: Verzeichnis \n",
      "; Score: 0; in Line: 8407\n"
     ]
    }
   ],
   "source": [
    "#I check whether all the sections I want to tag are being detected. \n",
    "#If I do notice missing sections I have to check the file manually and adapt the lines if needed.\n",
    "\n",
    "for num, line in enumerate(text, 1):\n",
    "    \n",
    "    yearlymeet_lev_score = lev(line,'Jahresversammlung \\n')                            \n",
    "    section_lev_score = lev(line, '750. Monatssitzung \\n')                                    #I adjust this as best I can to what the ideal outcome would be\n",
    "    list_lev_score = lev(line, 'Verzeichnis \\n')\n",
    "    \n",
    "    if yearlymeet_lev_score <= 5:                                                       #I tweak the score until it fits best\n",
    "        print(f\"YOccurence: {line}; Score: {yearlymeet_lev_score}; in Line: {num}\")\n",
    "    elif section_lev_score <= 5:                                                        #I tweak the score until it fits best\n",
    "        print(f\"SOccurence: {line}; Score: {section_lev_score}; in Line: {num}\")\n",
    "    elif list_lev_score <= 5:                                                           #I tweak the score until it fits best\n",
    "        print(f\"LOccurence: {line}; Score: {list_lev_score}; in Line: {num}\")\n",
    "    "
   ]
  },
  {
   "cell_type": "code",
   "execution_count": 94,
   "id": "23e5c943-0d0e-4b3a-a276-7826c384ced3",
   "metadata": {},
   "outputs": [],
   "source": [
    "#I create a new list with the lines that mark sections being tagged.\n",
    "#I have to adjust the changes made above\n",
    "\n",
    "new_text = []\n",
    "\n",
    "for num, line in enumerate(text, 0):\n",
    "    \n",
    "    yearlymeet_lev_score = lev(line,'Jahresversammlung \\n')                            \n",
    "    section_lev_score = lev(line, '750. Monatssitzung \\n')                     #I adjust this as best I can to what the ideal outcome would be\n",
    "    list_lev_score = lev(line, 'Verzeichnis \\n')\n",
    "    \n",
    "    if yearlymeet_lev_score <= 5:\n",
    "        ano_line = f\"<section type='yearlymeet'> {line}\"                 #I open the section tag in the line I detected\n",
    "        new_text.append(ano_line)\n",
    "         \n",
    "    elif section_lev_score <= 5:\n",
    "        new_text.append(\"</section> \\n\")                                 #I close the section tag with an additional line before the new section starts \n",
    "        ano_line = f\"<section type='monthlymeet'> {line}\"\n",
    "        new_text.append(ano_line)\n",
    "        \n",
    "    elif list_lev_score <= 5:\n",
    "        new_text.append(\"</section> \\n\")\n",
    "        ano_line = f\"<section type='list'> {line}\"\n",
    "        new_text.append(ano_line)\n",
    "        \n",
    "    else:\n",
    "        new_text.append(line)\n",
    "        \n",
    "new_text.append(\"</section> \\n\")                                         #I close the very last section \n",
    "        "
   ]
  },
  {
   "cell_type": "code",
   "execution_count": 95,
   "id": "2cfdb36e-82ea-4302-a628-1ab3fe11e0b5",
   "metadata": {
    "scrolled": true,
    "tags": []
   },
   "outputs": [
    {
     "data": {
      "text/plain": [
       "['*) Der zum Schluss der Sitzung verlesene Jahresbericht für das \\n',\n",
       " 'Jahr 1911 ist in den S.-B. des Jahres auf S. 115 ff. veröffentlicht. \\n',\n",
       " '8 \\n',\n",
       " 'schwere verzierte silberne Armringe von schöner Arbeit, ein \\n',\n",
       " 'grosser Ring aus dickem gewundenen Golddraht und 11 grosse \\n',\n",
       " 'silberne Ringe, stabrund mit eingestempelten Verzierungen, \\n',\n",
       " 'facettiert oder gewunden, wie sie gewöhnlich als Halsringe ange\\xad\\n',\n",
       " 'sprochen werden, aber im vorliegenden Falle eher als Kopf\\xad\\n',\n",
       " 'schmuck zu deuten sind. \\n',\n",
       " 'Ein derartiger Fund ist bisher in unseren Provinzen nicht \\n',\n",
       " 'gemacht worden. Nur eine Armbrustfibel von derselben Aus\\xad\\n',\n",
       " 'stattung hat sich bei Riga (Plawnekaln) gefunden, doch ähnliche \\n',\n",
       " 'Bronzefibeln bieten Ostpreussen und Finnland. Es handelt sich \\n',\n",
       " 'bei den neben dem Stein gefundenen Sachen nicht um eine Toten\\xad\\n',\n",
       " 'beigabe, auch nicht um einen vergrabnen Schatz, da die Gegen\\xad\\n',\n",
       " 'stände gleich gemustert sind, meist ganz neu, ohne Spuren von \\n',\n",
       " 'Gebrauch. Sie gehören dem Depot eines Händlers vom Anfange \\n',\n",
       " 'des 5. nachchristlichen Jahrhundert an. \\n',\n",
       " '</section> \\n',\n",
       " \"<section type='monthlymeet'> 755. Monatssitzung \\n\",\n",
       " 'vom 24. Februar 1912. \\n',\n",
       " 'Anwesend; der Präsident Dr. W Schlüter, die Vorstands\\xad\\n',\n",
       " 'glieder Ed. Haller u. E. Frey und ca. 70 Mitglieder. \\n',\n",
       " 'Die Sitzung fand wegen einer vorauszusehenden stärkeren \\n',\n",
       " 'Beteiligung der Mitglieder nicht in den engen Räumen der Ge\\xad\\n',\n",
       " 'sellschaft, sondern im Saale der Mariengilde statt. Gegenstand \\n',\n",
       " 'der Verhandlung war ein von den Herren Stadtarchivar Christiani, \\n',\n",
       " 'Dr. R. Otto u. Reinh. Ottow gestellter Antrag, bei der wissen\\xad\\n',\n",
       " 'schaftlichen Weiterarbeit der Gesellschaft das Hauptgewicht auf \\n',\n",
       " 'die Erforschung der Landesgeschichte zu verlegen und die Be\\xad\\n']"
      ]
     },
     "execution_count": 95,
     "metadata": {},
     "output_type": "execute_result"
    }
   ],
   "source": [
    "new_text[330:360]"
   ]
  },
  {
   "cell_type": "code",
   "execution_count": 96,
   "id": "ec7a30e5-bbe5-4ad5-8a6a-191b875edd80",
   "metadata": {},
   "outputs": [],
   "source": [
    "#I write the new annotated list into a .txt file \n",
    "\n",
    "out_filename = 'Output/GEG/1912-1922_GEG_Ano.txt'                            #Look out for the right year!!\n",
    "\n",
    "filepath = Path(out_filename)                             \n",
    "filepath.parent.mkdir(parents=True, exist_ok=True)                       #creates the folders if they don't exist yet\n",
    "\n",
    "with open(out_filename, 'x') as fp:\n",
    "    fp.write(\"\".join(str(item) for item in new_text))"
   ]
  },
  {
   "cell_type": "markdown",
   "id": "9bb82096-61f5-4dbf-bc7e-03b9e5c15c20",
   "metadata": {},
   "source": [
    "## Isolating membership list "
   ]
  },
  {
   "cell_type": "code",
   "execution_count": null,
   "id": "15e3ab2f-1f0d-4e73-9428-7b9296b4c438",
   "metadata": {},
   "outputs": [],
   "source": []
  }
 ],
 "metadata": {
  "kernelspec": {
   "display_name": "Python 3 (ipykernel)",
   "language": "python",
   "name": "python3"
  },
  "language_info": {
   "codemirror_mode": {
    "name": "ipython",
    "version": 3
   },
   "file_extension": ".py",
   "mimetype": "text/x-python",
   "name": "python",
   "nbconvert_exporter": "python",
   "pygments_lexer": "ipython3",
   "version": "3.10.6"
  }
 },
 "nbformat": 4,
 "nbformat_minor": 5
}
