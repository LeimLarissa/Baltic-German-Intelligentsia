{
 "cells": [
  {
   "cell_type": "code",
   "execution_count": 1,
   "id": "a4a9c559-4d27-4170-b963-c7c6709a9b0e",
   "metadata": {
    "tags": []
   },
   "outputs": [],
   "source": [
    "import re\n",
    "import pandas as pd\n",
    "import numpy as np\n",
    "import csv\n",
    "from pathlib import Path"
   ]
  },
  {
   "cell_type": "markdown",
   "id": "60ce78ca-b74a-4bd3-9aac-fd19681bd3b3",
   "metadata": {},
   "source": [
    "# GEG Stats"
   ]
  },
  {
   "cell_type": "code",
   "execution_count": 2,
   "id": "9614527a-78e5-426e-a25b-838cc86991a1",
   "metadata": {
    "tags": []
   },
   "outputs": [],
   "source": [
    "# I want to see how many lines of the original material were effected and could be cleaned \n",
    "\n",
    "# Line, word and character counts of files can be created with git bash\n",
    "# Example bash command: wc *Cor_*.txt | sort -n > OverviewNVR.txt\n",
    "# OpenRefine from fixed space to column-named .csv\n",
    "\n",
    "df_GEG = pd.read_csv('Sources/GEG/OverviewGEG.csv')                                #This file contains the overall lines\n",
    "df_GEG_E = pd.read_csv('Sources/GEG/2023-02-13_OverallGEGErrorStats.csv')          #This file contains the Stats on the detected and cleaned errors of all 3 types \n",
    "\n",
    "#df_GEG\n",
    "#df_GEG_E"
   ]
  },
  {
   "cell_type": "code",
   "execution_count": 3,
   "id": "9fd4a94b-93e8-4506-8832-41b0942f384f",
   "metadata": {
    "tags": []
   },
   "outputs": [],
   "source": [
    "GEG_all_lines = df_GEG.loc[40,'lines']                                    #I store the all lines number in a variable\n",
    "\n",
    "GEG_NomTotal = df_GEG_E.loc[40,'NomSpaceE_Start']                         \n",
    "GEG_SpecTotal = df_GEG_E.loc[40,'SpecSpaceE_Start']\n",
    "GEG_OETotal = GEG_NomTotal + GEG_SpecTotal                                #The total of the lines affected by the original anticipated errors NomSpaceError and SpecSpaceError\n",
    "\n",
    "GEG_VSpecTotal = df_GEG_E.loc[40,'VSpecSpaceE_Start']\n",
    "GEG_ETotal = GEG_OETotal + GEG_VSpecTotal                                 #These are all lines affected by all 3 kinds of errors including the VSpecSpaceError\n",
    "\n",
    "GEG_RemainSpecE = df_GEG_E.loc[40,'SpecSpaceE_End']\n",
    "GEG_CLines = GEG_OETotal - GEG_RemainSpecE                                #Since I haven't figuered out a way to remove the 3rd error the total cleaned lines are the OEtotal - those remaining SpecSpace Errors \n",
    "\n",
    "GEG_RemainE = GEG_RemainSpecE + GEG_VSpecTotal                            #Remaining erroneous lines lines are the Remain SpecSpaceErrors and VSpecSpaceErrors combined\n"
   ]
  },
  {
   "cell_type": "code",
   "execution_count": 14,
   "id": "4921f245-1641-49fd-959a-476bdd651483",
   "metadata": {
    "tags": []
   },
   "outputs": [
    {
     "name": "stdout",
     "output_type": "stream",
     "text": [
      "GEG overall lines:  288147\n",
      "GEG total original erroneous lines:  9828.0\n",
      "GEG total erroneous lines:  15261.0\n",
      "GEG cleaned lines:   9667.0\n",
      "GEG remaining erroneous lines:   5594.0\n"
     ]
    }
   ],
   "source": [
    "print(\"GEG overall lines:  \" + str(GEG_all_lines))\n",
    "print(\"GEG total original erroneous lines:  \" + str(GEG_OETotal))\n",
    "print(\"GEG total erroneous lines:  \" + str(GEG_ETotal))\n",
    "print(\"GEG cleaned lines:   \" + str(GEG_CLines))\n",
    "print(\"GEG remaining erroneous lines:   \" + str(GEG_RemainE))"
   ]
  },
  {
   "cell_type": "code",
   "execution_count": 27,
   "id": "4535afa9-0643-4085-946b-c4dfaf88768c",
   "metadata": {
    "tags": []
   },
   "outputs": [],
   "source": [
    "#What percentages do the erroneous and cleaned lines account for. \n",
    "\n",
    "P_OEL = (100/GEG_all_lines)*GEG_ETotal\n",
    "P_CEL = (100/GEG_all_lines)*GEG_RemainE\n",
    "\n",
    "P_ROE = (100/GEG_OETotal)*(GEG_OETotal-GEG_RemainSpecE)\n",
    "P_RE = (100/GEG_ETotal)*(GEG_ETotal-GEG_RemainE)"
   ]
  },
  {
   "cell_type": "code",
   "execution_count": 28,
   "id": "a2f9381d-7b8e-43ed-a7f7-416f9a8496d5",
   "metadata": {
    "tags": []
   },
   "outputs": [
    {
     "name": "stdout",
     "output_type": "stream",
     "text": [
      "Previous percentage of erroneous lines for GEG: 5.29625503649179\n",
      "Current percentage of erroneous lines for GEG: 1.9413702034031242\n",
      "Percentage of original erroneous lines removed: 98.36182336182335\n",
      "Percentage of all erroneous lines removed: 63.34447283926348\n"
     ]
    }
   ],
   "source": [
    "print(\"Previous percentage of erroneous lines for GEG: \" + str(P_OEL))\n",
    "print(\"Current percentage of erroneous lines for GEG: \" + str(P_CEL))\n",
    "print(\"Percentage of original erroneous lines removed: \" + str(P_ROE))\n",
    "print(\"Percentage of all erroneous lines removed: \" + str(P_RE))"
   ]
  },
  {
   "cell_type": "markdown",
   "id": "2802c4c3-bab5-427b-9666-01f50857855a",
   "metadata": {},
   "source": [
    "# GGuA Stats"
   ]
  },
  {
   "cell_type": "code",
   "execution_count": 6,
   "id": "fdf2b4e3-37ac-4d94-9f6e-3f3df5afc0cf",
   "metadata": {
    "tags": []
   },
   "outputs": [],
   "source": [
    "df_GGuA = pd.read_csv('Sources/GGuA/OverviewGGuA.csv')\n",
    "df_GGuA_E = pd.read_csv('Sources/GGuA/2023-02-13_OverallGGuAErrorStats.csv')\n",
    "\n",
    "#df_GGuA\n",
    "#df_GGuA_E"
   ]
  },
  {
   "cell_type": "code",
   "execution_count": 7,
   "id": "d4b70068-f3dd-4a82-87a1-4cf2a0ef8af6",
   "metadata": {
    "tags": []
   },
   "outputs": [],
   "source": [
    "GGuA_all_lines = df_GGuA.loc[37,'lines']\n",
    "\n",
    "GGuA_NomTotal = df_GGuA_E.loc[37,'NomSpaceE_Start']\n",
    "GGuA_SpecTotal = df_GGuA_E.loc[37,'SpecSpaceE_Start']\n",
    "GGuA_OETotal = GGuA_NomTotal + GGuA_SpecTotal\n",
    "\n",
    "\n",
    "GGuA_VSpecTotal = df_GGuA_E.loc[37,'VSpecSpaceE_Start']\n",
    "GGuA_ETotal = GGuA_OETotal + GGuA_VSpecTotal\n",
    "\n",
    "GGuA_RemainSpecE = df_GGuA_E.loc[37,'SpecSpaceE_End']\n",
    "GGuA_CLines = GGuA_OETotal - GGuA_RemainSpecE\n",
    "\n",
    "GGuA_RemainE = GGuA_RemainSpecE + GGuA_VSpecTotal"
   ]
  },
  {
   "cell_type": "code",
   "execution_count": 15,
   "id": "c575fe04-8c0f-4f1f-9707-43a4708c7d53",
   "metadata": {
    "tags": []
   },
   "outputs": [
    {
     "name": "stdout",
     "output_type": "stream",
     "text": [
      "GGuA total lines: 300440\n",
      "GGuA total original erroneous lines: 3486.0\n",
      "GGuA total erroneous lines: 10336.0\n",
      "GGuA cleaned lines:  2645.0\n",
      "GGuA remaining erroneous lines:  7691.0\n"
     ]
    }
   ],
   "source": [
    "print(\"GGuA total lines: \" + str(GGuA_all_lines))\n",
    "print(\"GGuA total original erroneous lines: \" + str(GGuA_OETotal))\n",
    "print(\"GGuA total erroneous lines: \" + str(GGuA_ETotal))\n",
    "print(\"GGuA cleaned lines:  \" + str(GGuA_CLines))\n",
    "print(\"GGuA remaining erroneous lines:  \" + str(GGuA_RemainE))"
   ]
  },
  {
   "cell_type": "code",
   "execution_count": 29,
   "id": "d5b8a4c8-0798-446a-aec5-c8f1179cd7bb",
   "metadata": {
    "tags": []
   },
   "outputs": [],
   "source": [
    "#What percentages do the erroneous and cleaned lines account for. \n",
    "\n",
    "P_OEL = (100/GGuA_all_lines)*GGuA_ETotal\n",
    "P_CEL = (100/GGuA_all_lines)*GGuA_RemainE\n",
    "\n",
    "P_ROE = (100/GGuA_OETotal)*(GGuA_OETotal-GGuA_RemainSpecE)\n",
    "P_RE = (100/GGuA_ETotal)*(GGuA_ETotal-GGuA_RemainE)"
   ]
  },
  {
   "cell_type": "code",
   "execution_count": 30,
   "id": "2e1aeee7-9bff-464e-8be3-df64183a5267",
   "metadata": {
    "tags": []
   },
   "outputs": [
    {
     "name": "stdout",
     "output_type": "stream",
     "text": [
      "Previous percentage of erroneous lines for GGuA: 3.4402875782186126\n",
      "Current percentage of erroneous lines for GGuA: 2.559912128877646\n",
      "Percentage of original erroneous lines removed: 75.87492828456683\n",
      "Percentage of all erroneous lines removed: 25.59017027863777\n"
     ]
    }
   ],
   "source": [
    "print(\"Previous percentage of erroneous lines for GGuA: \" + str(P_OEL))\n",
    "print(\"Current percentage of erroneous lines for GGuA: \" + str(P_CEL))\n",
    "print(\"Percentage of original erroneous lines removed: \" + str(P_ROE))\n",
    "print(\"Percentage of all erroneous lines removed: \" + str(P_RE))"
   ]
  },
  {
   "cell_type": "markdown",
   "id": "03b71693-eb1e-47c7-ac30-01c181d73d43",
   "metadata": {},
   "source": [
    "# NVR Stats"
   ]
  },
  {
   "cell_type": "code",
   "execution_count": 9,
   "id": "508b1d5b-6616-42ec-99c0-69900e02210f",
   "metadata": {
    "tags": []
   },
   "outputs": [],
   "source": [
    "df_NVR = pd.read_csv('Sources/NVR/OverviewNVR.csv')\n",
    "df_NVR_E = pd.read_csv('Sources/NVR/2023-08-31_OverallNVRErrorStats.csv')\n",
    "\n",
    "#df_NVR\n",
    "#df_NVR_E"
   ]
  },
  {
   "cell_type": "code",
   "execution_count": 10,
   "id": "70b2cc62-4b60-45ae-92b0-3c7adacb9f44",
   "metadata": {
    "tags": []
   },
   "outputs": [],
   "source": [
    "NVR_all_lines = df_NVR.loc[40,'lines']\n",
    "\n",
    "NVR_NomTotal = df_NVR_E.loc[40,'NomSpaceE_Start']\n",
    "NVR_SpecTotal = df_NVR_E.loc[40,'SpecSpaceE_Start']\n",
    "NVR_OETotal = NVR_NomTotal + NVR_SpecTotal\n",
    "\n",
    "NVR_VSpecTotal = df_NVR_E.loc[40,'VSpecSpaceE_Start']\n",
    "NVR_ETotal = NVR_OETotal + NVR_VSpecTotal\n",
    "\n",
    "NVR_RemainSpecE = df_NVR_E.loc[40,'SpecSpaceE_End']\n",
    "NVR_CLines = NVR_OETotal - NVR_RemainSpecE\n",
    "\n",
    "NVR_RemainE = NVR_RemainSpecE + NVR_VSpecTotal"
   ]
  },
  {
   "cell_type": "code",
   "execution_count": 16,
   "id": "19b2d8bd-3e46-4a27-954a-c7ff0dc9bfc3",
   "metadata": {
    "tags": []
   },
   "outputs": [
    {
     "name": "stdout",
     "output_type": "stream",
     "text": [
      "NVR total lines:  295806\n",
      "NVR total original erroneous lines: 11688.0\n",
      "NVR total erroneous lines:  31098.0\n",
      "NVR cleaned lines:  11235.0\n",
      "NVR remaining erroneous lines:  19863.0\n"
     ]
    }
   ],
   "source": [
    "print(\"NVR total lines:  \" + str(NVR_all_lines))\n",
    "print(\"NVR total original erroneous lines: \" + str(NVR_OETotal))\n",
    "print(\"NVR total erroneous lines:  \" + str(NVR_ETotal))\n",
    "print(\"NVR cleaned lines:  \" + str(NVR_CLines))\n",
    "print(\"NVR remaining erroneous lines:  \" + str(NVR_RemainE))"
   ]
  },
  {
   "cell_type": "code",
   "execution_count": 31,
   "id": "b6c96f28-e5d6-4d7c-aeed-31764218582f",
   "metadata": {},
   "outputs": [],
   "source": [
    "#What percentages do the erroneous and cleaned lines account for. \n",
    "\n",
    "P_OEL = (100/NVR_all_lines)*NVR_ETotal\n",
    "P_CEL = (100/NVR_all_lines)*NVR_RemainE\n",
    "\n",
    "P_ROE = (100/NVR_OETotal)*(NVR_OETotal-NVR_RemainSpecE)\n",
    "P_RE = (100/NVR_ETotal)*(NVR_ETotal-NVR_RemainE)"
   ]
  },
  {
   "cell_type": "code",
   "execution_count": 32,
   "id": "91a2a2b8-1c3f-4c88-9aac-afb8a41335fa",
   "metadata": {
    "tags": []
   },
   "outputs": [
    {
     "name": "stdout",
     "output_type": "stream",
     "text": [
      "Previous percentage of erroneous lines for NVR: 10.512971339323746\n",
      "Current percentage of erroneous lines for NVR: 6.714873937648324\n",
      "Percentage of original erroneous lines removed: 96.12422997946611\n",
      "Percentage of all erroneous lines removed: 36.12772525564345\n"
     ]
    }
   ],
   "source": [
    "print(\"Previous percentage of erroneous lines for NVR: \" + str(P_OEL))\n",
    "print(\"Current percentage of erroneous lines for NVR: \" + str(P_CEL))\n",
    "print(\"Percentage of original erroneous lines removed: \" + str(P_ROE))\n",
    "print(\"Percentage of all erroneous lines removed: \" + str(P_RE))"
   ]
  },
  {
   "cell_type": "code",
   "execution_count": null,
   "id": "850b76a4-8933-4b08-b3b7-4e41e9285a25",
   "metadata": {},
   "outputs": [],
   "source": []
  }
 ],
 "metadata": {
  "kernelspec": {
   "display_name": "Python 3 (ipykernel)",
   "language": "python",
   "name": "python3"
  },
  "language_info": {
   "codemirror_mode": {
    "name": "ipython",
    "version": 3
   },
   "file_extension": ".py",
   "mimetype": "text/x-python",
   "name": "python",
   "nbconvert_exporter": "python",
   "pygments_lexer": "ipython3",
   "version": "3.10.10"
  }
 },
 "nbformat": 4,
 "nbformat_minor": 5
}
